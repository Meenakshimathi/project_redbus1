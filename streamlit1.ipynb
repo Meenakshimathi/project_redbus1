{
  "nbformat": 4,
  "nbformat_minor": 0,
  "metadata": {
    "colab": {
      "provenance": [],
      "authorship_tag": "ABX9TyOgaeWIQeqN5PIs4YbfJEn7",
      "include_colab_link": true
    },
    "kernelspec": {
      "name": "python3",
      "display_name": "Python 3"
    },
    "language_info": {
      "name": "python"
    }
  },
  "cells": [
    {
      "cell_type": "markdown",
      "metadata": {
        "id": "view-in-github",
        "colab_type": "text"
      },
      "source": [
        "<a href=\"https://colab.research.google.com/github/Meenakshimathi/project_redbus1/blob/main/streamlit1.ipynb\" target=\"_parent\"><img src=\"https://colab.research.google.com/assets/colab-badge.svg\" alt=\"Open In Colab\"/></a>"
      ]
    },
    {
      "cell_type": "code",
      "execution_count": null,
      "metadata": {
        "id": "pDtUa5sOmo01"
      },
      "outputs": [],
      "source": [
        "import streamlit as st\n",
        "import pymysql\n",
        "import pandas as pd\n",
        "\n",
        "# Connect to MySQL database\n",
        "def get_connection():\n",
        "    return pymysql.connect(host='127.0.0.1', user='root', passwd='Ajay2017', database='project')\n",
        "\n",
        "# Function to fetch route names starting with a specific letter, arranged alphabetically\n",
        "def fetch_Route_name(connection, starting_letter):\n",
        "    query = f\"SELECT DISTINCT Route_name FROM redbus WHERE Route_name LIKE '{starting_letter}%' ORDER BY Route_name\"\n",
        "    Route_name = pd.read_sql(query, connection)['Route_name'].tolist()\n",
        "    return Route_name\n",
        "\n",
        "# Function to fetch data from MySQL based on selected ROUTE_NAME and price sort order\n",
        "def fetch_data(connection, Route_name, price_sort_order):\n",
        "    price_sort_order_sql = \"ASC\" if price_sort_order == \"Low to High\" else \"DESC\"\n",
        "    query = f\"SELECT * FROM redbus WHERE Route_name = %s ORDER BY Ratings DESC, PRICE {price_sort_order_sql}\"\n",
        "    df = pd.read_sql(query, connection, params=(Route_name,))\n",
        "    return df\n",
        "\n",
        "# Function to filter data based on RATING and BUS_TYPE\n",
        "def filter_data(df, ratings, Bus_type):\n",
        "    filtered_df = df[df['Ratings'].isin(ratings) & df['Bus_type'].isin(Bus_type)]\n",
        "    return filtered_df\n",
        "\n",
        "# Main Streamlit app\n",
        "def main():\n",
        "    st.header('Easy and Secure Online Bus Tickets Booking')\n",
        "\n",
        "    connection = get_connection()\n",
        "\n",
        "    try:\n",
        "        # Sidebar - Input for starting letter\n",
        "        starting_letter = st.sidebar.text_input('Enter Starting Letter of Route Name', 'A')\n",
        "\n",
        "        # Fetch route names starting with the specified letter\n",
        "        if starting_letter:\n",
        "            Route_name = fetch_Route_name(connection, starting_letter.upper())\n",
        "\n",
        "            if Route_name:\n",
        "                # Sidebar - Selectbox for ROUTE_NAME\n",
        "                selected_route = st.sidebar.radio('Select Route Name', Route_name)\n",
        "\n",
        "                if selected_route:\n",
        "                    # Sidebar - Selectbox for sorting preference\n",
        "                    price_sort_order = st.sidebar.selectbox('Sort by Price', ['Low to High', 'High to Low'])\n",
        "\n",
        "                    # Fetch data based on selected ROUTE_NAME and price sort order\n",
        "                    data = fetch_data(connection, selected_route, price_sort_order)\n",
        "\n",
        "                    if not data.empty:\n",
        "                        # Display data table with a subheader\n",
        "                        st.write(f\"### Data for Route: {selected_route}\")\n",
        "                        st.write(data)\n",
        "\n",
        "                        # Filter by RATING and BUS_TYPE\n",
        "                        Ratings = data['Ratings'].unique().tolist()\n",
        "                        selected_ratings = st.multiselect('Filter by Ratings', Ratings)\n",
        "\n",
        "                        Bus_type = data['Bus_type'].unique().tolist()\n",
        "                        selected_Bus_type = st.multiselect('Filter by Bus_type', Bus_type)\n",
        "\n",
        "                        if selected_ratings and selected_Bus_type:\n",
        "                            filtered_data = filter_data(data, selected_ratings, selected_Bus_type)\n",
        "                            # Display filtered data table with a subheader\n",
        "                            st.write(f\"### Filtered Data for Rating: {selected_ratings} and Bus_type: {selected_Bus_type}\")\n",
        "                            st.write(filtered_data)\n",
        "                    else:\n",
        "                        st.write(f\"No data found for Route: {selected_route} with the specified price sort order.\")\n",
        "            else:\n",
        "                st.write(\"No routes found starting with the specified letter.\")\n",
        "    finally:\n",
        "        connection.close()\n",
        "\n",
        "if __name__ == '__main__':\n",
        "    main()\n"
      ]
    }
  ]
}